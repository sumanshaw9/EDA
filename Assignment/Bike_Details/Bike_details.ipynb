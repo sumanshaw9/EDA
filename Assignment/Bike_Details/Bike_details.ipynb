{
 "cells": [
  {
   "cell_type": "markdown",
   "id": "127b79e3-3f45-47b8-8551-e16b951364c1",
   "metadata": {},
   "source": [
    "**Bike_Details**"
   ]
  },
  {
   "cell_type": "code",
   "execution_count": 161,
   "id": "a5a7377e-84c9-4a9b-9fe5-822e8662bfa8",
   "metadata": {},
   "outputs": [],
   "source": [
    "#EDA \n",
    "\n",
    "import pandas as pd\n",
    "import seaborn as sns\n",
    "import matplotlib.pyplot as plt\n",
    "\n",
    "import warnings\n",
    "warnings.filterwarnings('ignore')"
   ]
  },
  {
   "cell_type": "code",
   "execution_count": 162,
   "id": "f01aee24-4c6a-4404-97a1-f6a73366a9ad",
   "metadata": {},
   "outputs": [],
   "source": [
    "df = pd.read_csv(\"BIKE DETAILS.csv\")"
   ]
  },
  {
   "cell_type": "code",
   "execution_count": 163,
   "id": "b844d72c-a222-4aaa-89fd-4276e296229e",
   "metadata": {},
   "outputs": [
    {
     "data": {
      "text/html": [
       "<div>\n",
       "<style scoped>\n",
       "    .dataframe tbody tr th:only-of-type {\n",
       "        vertical-align: middle;\n",
       "    }\n",
       "\n",
       "    .dataframe tbody tr th {\n",
       "        vertical-align: top;\n",
       "    }\n",
       "\n",
       "    .dataframe thead th {\n",
       "        text-align: right;\n",
       "    }\n",
       "</style>\n",
       "<table border=\"1\" class=\"dataframe\">\n",
       "  <thead>\n",
       "    <tr style=\"text-align: right;\">\n",
       "      <th></th>\n",
       "      <th>name</th>\n",
       "      <th>selling_price</th>\n",
       "      <th>year</th>\n",
       "      <th>seller_type</th>\n",
       "      <th>owner</th>\n",
       "      <th>km_driven</th>\n",
       "      <th>ex_showroom_price</th>\n",
       "    </tr>\n",
       "  </thead>\n",
       "  <tbody>\n",
       "    <tr>\n",
       "      <th>0</th>\n",
       "      <td>Royal Enfield Classic 350</td>\n",
       "      <td>175000</td>\n",
       "      <td>2019</td>\n",
       "      <td>Individual</td>\n",
       "      <td>1st owner</td>\n",
       "      <td>350</td>\n",
       "      <td>NaN</td>\n",
       "    </tr>\n",
       "    <tr>\n",
       "      <th>1</th>\n",
       "      <td>Honda Dio</td>\n",
       "      <td>45000</td>\n",
       "      <td>2017</td>\n",
       "      <td>Individual</td>\n",
       "      <td>1st owner</td>\n",
       "      <td>5650</td>\n",
       "      <td>NaN</td>\n",
       "    </tr>\n",
       "    <tr>\n",
       "      <th>2</th>\n",
       "      <td>Royal Enfield Classic Gunmetal Grey</td>\n",
       "      <td>150000</td>\n",
       "      <td>2018</td>\n",
       "      <td>Individual</td>\n",
       "      <td>1st owner</td>\n",
       "      <td>12000</td>\n",
       "      <td>148114.0</td>\n",
       "    </tr>\n",
       "    <tr>\n",
       "      <th>3</th>\n",
       "      <td>Yamaha Fazer FI V 2.0 [2016-2018]</td>\n",
       "      <td>65000</td>\n",
       "      <td>2015</td>\n",
       "      <td>Individual</td>\n",
       "      <td>1st owner</td>\n",
       "      <td>23000</td>\n",
       "      <td>89643.0</td>\n",
       "    </tr>\n",
       "    <tr>\n",
       "      <th>4</th>\n",
       "      <td>Yamaha SZ [2013-2014]</td>\n",
       "      <td>20000</td>\n",
       "      <td>2011</td>\n",
       "      <td>Individual</td>\n",
       "      <td>2nd owner</td>\n",
       "      <td>21000</td>\n",
       "      <td>NaN</td>\n",
       "    </tr>\n",
       "    <tr>\n",
       "      <th>...</th>\n",
       "      <td>...</td>\n",
       "      <td>...</td>\n",
       "      <td>...</td>\n",
       "      <td>...</td>\n",
       "      <td>...</td>\n",
       "      <td>...</td>\n",
       "      <td>...</td>\n",
       "    </tr>\n",
       "    <tr>\n",
       "      <th>1056</th>\n",
       "      <td>Activa 3g</td>\n",
       "      <td>17000</td>\n",
       "      <td>2010</td>\n",
       "      <td>Individual</td>\n",
       "      <td>1st owner</td>\n",
       "      <td>500000</td>\n",
       "      <td>52000.0</td>\n",
       "    </tr>\n",
       "    <tr>\n",
       "      <th>1057</th>\n",
       "      <td>Honda CB twister</td>\n",
       "      <td>16000</td>\n",
       "      <td>2012</td>\n",
       "      <td>Individual</td>\n",
       "      <td>1st owner</td>\n",
       "      <td>33000</td>\n",
       "      <td>51000.0</td>\n",
       "    </tr>\n",
       "    <tr>\n",
       "      <th>1058</th>\n",
       "      <td>Bajaj Discover 125</td>\n",
       "      <td>15000</td>\n",
       "      <td>2013</td>\n",
       "      <td>Individual</td>\n",
       "      <td>2nd owner</td>\n",
       "      <td>35000</td>\n",
       "      <td>57000.0</td>\n",
       "    </tr>\n",
       "    <tr>\n",
       "      <th>1059</th>\n",
       "      <td>Honda CB Shine</td>\n",
       "      <td>12000</td>\n",
       "      <td>2009</td>\n",
       "      <td>Individual</td>\n",
       "      <td>1st owner</td>\n",
       "      <td>53000</td>\n",
       "      <td>58000.0</td>\n",
       "    </tr>\n",
       "    <tr>\n",
       "      <th>1060</th>\n",
       "      <td>Bajaj Pulsar 150</td>\n",
       "      <td>10000</td>\n",
       "      <td>2008</td>\n",
       "      <td>Individual</td>\n",
       "      <td>1st owner</td>\n",
       "      <td>92233</td>\n",
       "      <td>75000.0</td>\n",
       "    </tr>\n",
       "  </tbody>\n",
       "</table>\n",
       "<p>1061 rows × 7 columns</p>\n",
       "</div>"
      ],
      "text/plain": [
       "                                     name  selling_price  year seller_type  \\\n",
       "0               Royal Enfield Classic 350         175000  2019  Individual   \n",
       "1                               Honda Dio          45000  2017  Individual   \n",
       "2     Royal Enfield Classic Gunmetal Grey         150000  2018  Individual   \n",
       "3       Yamaha Fazer FI V 2.0 [2016-2018]          65000  2015  Individual   \n",
       "4                   Yamaha SZ [2013-2014]          20000  2011  Individual   \n",
       "...                                   ...            ...   ...         ...   \n",
       "1056                            Activa 3g          17000  2010  Individual   \n",
       "1057                     Honda CB twister          16000  2012  Individual   \n",
       "1058                   Bajaj Discover 125          15000  2013  Individual   \n",
       "1059                       Honda CB Shine          12000  2009  Individual   \n",
       "1060                     Bajaj Pulsar 150          10000  2008  Individual   \n",
       "\n",
       "          owner  km_driven  ex_showroom_price  \n",
       "0     1st owner        350                NaN  \n",
       "1     1st owner       5650                NaN  \n",
       "2     1st owner      12000           148114.0  \n",
       "3     1st owner      23000            89643.0  \n",
       "4     2nd owner      21000                NaN  \n",
       "...         ...        ...                ...  \n",
       "1056  1st owner     500000            52000.0  \n",
       "1057  1st owner      33000            51000.0  \n",
       "1058  2nd owner      35000            57000.0  \n",
       "1059  1st owner      53000            58000.0  \n",
       "1060  1st owner      92233            75000.0  \n",
       "\n",
       "[1061 rows x 7 columns]"
      ]
     },
     "execution_count": 163,
     "metadata": {},
     "output_type": "execute_result"
    }
   ],
   "source": [
    "df"
   ]
  },
  {
   "cell_type": "code",
   "execution_count": 164,
   "id": "35b59bf5-2d2d-4c3f-9d05-3ec8b6cdbf49",
   "metadata": {},
   "outputs": [
    {
     "data": {
      "text/plain": [
       "(1061, 7)"
      ]
     },
     "execution_count": 164,
     "metadata": {},
     "output_type": "execute_result"
    }
   ],
   "source": [
    "df.shape"
   ]
  },
  {
   "cell_type": "code",
   "execution_count": 165,
   "id": "99b1bc3b-6da0-4746-a1d9-3edfc89a6d88",
   "metadata": {},
   "outputs": [
    {
     "data": {
      "text/plain": [
       "Index(['name', 'selling_price', 'year', 'seller_type', 'owner', 'km_driven',\n",
       "       'ex_showroom_price'],\n",
       "      dtype='object')"
      ]
     },
     "execution_count": 165,
     "metadata": {},
     "output_type": "execute_result"
    }
   ],
   "source": [
    "df.columns"
   ]
  },
  {
   "cell_type": "code",
   "execution_count": 166,
   "id": "5e8114f4-623c-4ace-83c7-4e6cce041556",
   "metadata": {},
   "outputs": [
    {
     "name": "stdout",
     "output_type": "stream",
     "text": [
      "<class 'pandas.core.frame.DataFrame'>\n",
      "RangeIndex: 1061 entries, 0 to 1060\n",
      "Data columns (total 7 columns):\n",
      " #   Column             Non-Null Count  Dtype  \n",
      "---  ------             --------------  -----  \n",
      " 0   name               1061 non-null   object \n",
      " 1   selling_price      1061 non-null   int64  \n",
      " 2   year               1061 non-null   int64  \n",
      " 3   seller_type        1061 non-null   object \n",
      " 4   owner              1061 non-null   object \n",
      " 5   km_driven          1061 non-null   int64  \n",
      " 6   ex_showroom_price  626 non-null    float64\n",
      "dtypes: float64(1), int64(3), object(3)\n",
      "memory usage: 58.2+ KB\n"
     ]
    }
   ],
   "source": [
    "df.info()"
   ]
  },
  {
   "cell_type": "code",
   "execution_count": 167,
   "id": "3a81265b-c25d-4369-a875-50f332b29a4a",
   "metadata": {},
   "outputs": [
    {
     "data": {
      "text/plain": [
       "6"
      ]
     },
     "execution_count": 167,
     "metadata": {},
     "output_type": "execute_result"
    }
   ],
   "source": [
    "df.duplicated().sum()"
   ]
  },
  {
   "cell_type": "code",
   "execution_count": 168,
   "id": "463743ce-cf2e-4058-9ef1-bc9ef81ae805",
   "metadata": {},
   "outputs": [],
   "source": [
    "df_copy = df.drop_duplicates()"
   ]
  },
  {
   "cell_type": "code",
   "execution_count": 169,
   "id": "c6ab62f9-7255-4137-bec5-c33a2918a575",
   "metadata": {},
   "outputs": [
    {
     "data": {
      "text/plain": [
       "0"
      ]
     },
     "execution_count": 169,
     "metadata": {},
     "output_type": "execute_result"
    }
   ],
   "source": [
    "df_copy.duplicated().sum()"
   ]
  },
  {
   "cell_type": "code",
   "execution_count": 170,
   "id": "f31feb13-1941-46e2-9a3a-590ec77716f3",
   "metadata": {},
   "outputs": [],
   "source": [
    "df_copy.reset_index(drop = True, inplace = True)"
   ]
  },
  {
   "cell_type": "code",
   "execution_count": 171,
   "id": "f0a29535-fa27-40cf-88ac-fece35fdfb74",
   "metadata": {},
   "outputs": [
    {
     "data": {
      "text/html": [
       "<div>\n",
       "<style scoped>\n",
       "    .dataframe tbody tr th:only-of-type {\n",
       "        vertical-align: middle;\n",
       "    }\n",
       "\n",
       "    .dataframe tbody tr th {\n",
       "        vertical-align: top;\n",
       "    }\n",
       "\n",
       "    .dataframe thead th {\n",
       "        text-align: right;\n",
       "    }\n",
       "</style>\n",
       "<table border=\"1\" class=\"dataframe\">\n",
       "  <thead>\n",
       "    <tr style=\"text-align: right;\">\n",
       "      <th></th>\n",
       "      <th>name</th>\n",
       "      <th>selling_price</th>\n",
       "      <th>year</th>\n",
       "      <th>seller_type</th>\n",
       "      <th>owner</th>\n",
       "      <th>km_driven</th>\n",
       "      <th>ex_showroom_price</th>\n",
       "    </tr>\n",
       "  </thead>\n",
       "  <tbody>\n",
       "    <tr>\n",
       "      <th>0</th>\n",
       "      <td>Royal Enfield Classic 350</td>\n",
       "      <td>175000</td>\n",
       "      <td>2019</td>\n",
       "      <td>Individual</td>\n",
       "      <td>1st owner</td>\n",
       "      <td>350</td>\n",
       "      <td>NaN</td>\n",
       "    </tr>\n",
       "    <tr>\n",
       "      <th>1</th>\n",
       "      <td>Honda Dio</td>\n",
       "      <td>45000</td>\n",
       "      <td>2017</td>\n",
       "      <td>Individual</td>\n",
       "      <td>1st owner</td>\n",
       "      <td>5650</td>\n",
       "      <td>NaN</td>\n",
       "    </tr>\n",
       "    <tr>\n",
       "      <th>2</th>\n",
       "      <td>Royal Enfield Classic Gunmetal Grey</td>\n",
       "      <td>150000</td>\n",
       "      <td>2018</td>\n",
       "      <td>Individual</td>\n",
       "      <td>1st owner</td>\n",
       "      <td>12000</td>\n",
       "      <td>148114.0</td>\n",
       "    </tr>\n",
       "    <tr>\n",
       "      <th>3</th>\n",
       "      <td>Yamaha Fazer FI V 2.0 [2016-2018]</td>\n",
       "      <td>65000</td>\n",
       "      <td>2015</td>\n",
       "      <td>Individual</td>\n",
       "      <td>1st owner</td>\n",
       "      <td>23000</td>\n",
       "      <td>89643.0</td>\n",
       "    </tr>\n",
       "    <tr>\n",
       "      <th>4</th>\n",
       "      <td>Yamaha SZ [2013-2014]</td>\n",
       "      <td>20000</td>\n",
       "      <td>2011</td>\n",
       "      <td>Individual</td>\n",
       "      <td>2nd owner</td>\n",
       "      <td>21000</td>\n",
       "      <td>NaN</td>\n",
       "    </tr>\n",
       "    <tr>\n",
       "      <th>...</th>\n",
       "      <td>...</td>\n",
       "      <td>...</td>\n",
       "      <td>...</td>\n",
       "      <td>...</td>\n",
       "      <td>...</td>\n",
       "      <td>...</td>\n",
       "      <td>...</td>\n",
       "    </tr>\n",
       "    <tr>\n",
       "      <th>1050</th>\n",
       "      <td>Activa 3g</td>\n",
       "      <td>17000</td>\n",
       "      <td>2010</td>\n",
       "      <td>Individual</td>\n",
       "      <td>1st owner</td>\n",
       "      <td>500000</td>\n",
       "      <td>52000.0</td>\n",
       "    </tr>\n",
       "    <tr>\n",
       "      <th>1051</th>\n",
       "      <td>Honda CB twister</td>\n",
       "      <td>16000</td>\n",
       "      <td>2012</td>\n",
       "      <td>Individual</td>\n",
       "      <td>1st owner</td>\n",
       "      <td>33000</td>\n",
       "      <td>51000.0</td>\n",
       "    </tr>\n",
       "    <tr>\n",
       "      <th>1052</th>\n",
       "      <td>Bajaj Discover 125</td>\n",
       "      <td>15000</td>\n",
       "      <td>2013</td>\n",
       "      <td>Individual</td>\n",
       "      <td>2nd owner</td>\n",
       "      <td>35000</td>\n",
       "      <td>57000.0</td>\n",
       "    </tr>\n",
       "    <tr>\n",
       "      <th>1053</th>\n",
       "      <td>Honda CB Shine</td>\n",
       "      <td>12000</td>\n",
       "      <td>2009</td>\n",
       "      <td>Individual</td>\n",
       "      <td>1st owner</td>\n",
       "      <td>53000</td>\n",
       "      <td>58000.0</td>\n",
       "    </tr>\n",
       "    <tr>\n",
       "      <th>1054</th>\n",
       "      <td>Bajaj Pulsar 150</td>\n",
       "      <td>10000</td>\n",
       "      <td>2008</td>\n",
       "      <td>Individual</td>\n",
       "      <td>1st owner</td>\n",
       "      <td>92233</td>\n",
       "      <td>75000.0</td>\n",
       "    </tr>\n",
       "  </tbody>\n",
       "</table>\n",
       "<p>1055 rows × 7 columns</p>\n",
       "</div>"
      ],
      "text/plain": [
       "                                     name  selling_price  year seller_type  \\\n",
       "0               Royal Enfield Classic 350         175000  2019  Individual   \n",
       "1                               Honda Dio          45000  2017  Individual   \n",
       "2     Royal Enfield Classic Gunmetal Grey         150000  2018  Individual   \n",
       "3       Yamaha Fazer FI V 2.0 [2016-2018]          65000  2015  Individual   \n",
       "4                   Yamaha SZ [2013-2014]          20000  2011  Individual   \n",
       "...                                   ...            ...   ...         ...   \n",
       "1050                            Activa 3g          17000  2010  Individual   \n",
       "1051                     Honda CB twister          16000  2012  Individual   \n",
       "1052                   Bajaj Discover 125          15000  2013  Individual   \n",
       "1053                       Honda CB Shine          12000  2009  Individual   \n",
       "1054                     Bajaj Pulsar 150          10000  2008  Individual   \n",
       "\n",
       "          owner  km_driven  ex_showroom_price  \n",
       "0     1st owner        350                NaN  \n",
       "1     1st owner       5650                NaN  \n",
       "2     1st owner      12000           148114.0  \n",
       "3     1st owner      23000            89643.0  \n",
       "4     2nd owner      21000                NaN  \n",
       "...         ...        ...                ...  \n",
       "1050  1st owner     500000            52000.0  \n",
       "1051  1st owner      33000            51000.0  \n",
       "1052  2nd owner      35000            57000.0  \n",
       "1053  1st owner      53000            58000.0  \n",
       "1054  1st owner      92233            75000.0  \n",
       "\n",
       "[1055 rows x 7 columns]"
      ]
     },
     "execution_count": 171,
     "metadata": {},
     "output_type": "execute_result"
    }
   ],
   "source": [
    "df_copy"
   ]
  },
  {
   "cell_type": "raw",
   "id": "852b931a-763f-4be1-b0f0-580168032771",
   "metadata": {},
   "source": [
    "1. What is the range of selling prices in the dataset."
   ]
  },
  {
   "cell_type": "code",
   "execution_count": 172,
   "id": "32b68d72-f9ac-476f-b850-a00cadf1ce56",
   "metadata": {},
   "outputs": [
    {
     "name": "stdout",
     "output_type": "stream",
     "text": [
      "Range of selling prices: 755000\n"
     ]
    }
   ],
   "source": [
    "range_price = df_copy['selling_price'].max() - df_copy['selling_price'].min()\n",
    "print(\"Range of selling prices:\", range_price)"
   ]
  },
  {
   "cell_type": "raw",
   "id": "f10f183b-03b1-4f20-b334-73a00fc3f550",
   "metadata": {},
   "source": [
    "2. What is the median selling price for bikes in the dataset."
   ]
  },
  {
   "cell_type": "code",
   "execution_count": 173,
   "id": "ef5c22f1-0aba-4a94-845f-7571aececb53",
   "metadata": {},
   "outputs": [
    {
     "name": "stdout",
     "output_type": "stream",
     "text": [
      "Median Selling Price : 45000.0\n"
     ]
    }
   ],
   "source": [
    "median_price = df_copy['selling_price'].median()\n",
    "print(\"Median Selling Price :\", median_price)"
   ]
  },
  {
   "cell_type": "raw",
   "id": "1ed43297-f7b8-4c44-b3dd-cc0461c609ec",
   "metadata": {},
   "source": [
    "3. What is the most common seller type."
   ]
  },
  {
   "cell_type": "code",
   "execution_count": 174,
   "id": "12c0b424-e87e-4ccf-aa62-a6e8e86f9d5d",
   "metadata": {},
   "outputs": [
    {
     "data": {
      "text/plain": [
       "'Individual'"
      ]
     },
     "execution_count": 174,
     "metadata": {},
     "output_type": "execute_result"
    }
   ],
   "source": [
    "most_common_seller = df_copy[\"seller_type\"].mode()[0]\n",
    "most_common_seller"
   ]
  },
  {
   "cell_type": "raw",
   "id": "26862385-2119-48c3-89d6-1a9857431ebb",
   "metadata": {},
   "source": [
    "4. How many bikes have driven more than 50,000 kilometers ."
   ]
  },
  {
   "cell_type": "code",
   "execution_count": 175,
   "id": "0439b4b0-5f72-4c1d-b520-a067b73407e9",
   "metadata": {},
   "outputs": [
    {
     "data": {
      "text/plain": [
       "168"
      ]
     },
     "execution_count": 175,
     "metadata": {},
     "output_type": "execute_result"
    }
   ],
   "source": [
    "bikes_abv_50k = df_copy[df_copy['km_driven'] > 50000]\n",
    "len(bikes_abv_50k)"
   ]
  },
  {
   "cell_type": "raw",
   "id": "1329d5ca-56bf-4082-b4e8-ca8cc4ceb840",
   "metadata": {},
   "source": [
    "5. What is the average km_driven value for each ownership type."
   ]
  },
  {
   "cell_type": "code",
   "execution_count": 176,
   "id": "41967336-b77a-4e7d-b9e4-dc043a494d66",
   "metadata": {},
   "outputs": [
    {
     "data": {
      "text/plain": [
       "owner\n",
       "1st owner     32732.710240\n",
       "2nd owner     39288.991870\n",
       "3rd owner     33292.181818\n",
       "4th owner    311500.000000\n",
       "Name: km_driven, dtype: float64"
      ]
     },
     "execution_count": 176,
     "metadata": {},
     "output_type": "execute_result"
    }
   ],
   "source": [
    "avg_km_driven_ownership = df_copy.groupby('owner')['km_driven'].mean()\n",
    "avg_km_driven_ownership"
   ]
  },
  {
   "cell_type": "raw",
   "id": "d729e7ed-84cf-4e4a-bfdd-3b6bf51922bd",
   "metadata": {},
   "source": [
    "6. What proportion of bikes are from the year 2015 or older."
   ]
  },
  {
   "cell_type": "code",
   "execution_count": 177,
   "id": "625e7c0c-ba51-4847-af6e-e8f30f6d2579",
   "metadata": {},
   "outputs": [
    {
     "name": "stdout",
     "output_type": "stream",
     "text": [
      "Proportion of bikes from 2015 or older: 56.59 %\n"
     ]
    }
   ],
   "source": [
    "prop_2015_or_older = (df_copy['year'] <= 2015).mean()\n",
    "print(\"Proportion of bikes from 2015 or older:\", round(prop_2015_or_older * 100, 2), \"%\")"
   ]
  },
  {
   "cell_type": "raw",
   "id": "8601f105-9019-4e57-acd8-9a9e7204e1cb",
   "metadata": {},
   "source": [
    "7. What is the trend of missing values across the dataset."
   ]
  },
  {
   "cell_type": "code",
   "execution_count": 178,
   "id": "ad3b4716-f80e-4f29-9412-fb6b6abddf8b",
   "metadata": {},
   "outputs": [
    {
     "data": {
      "text/html": [
       "<div>\n",
       "<style scoped>\n",
       "    .dataframe tbody tr th:only-of-type {\n",
       "        vertical-align: middle;\n",
       "    }\n",
       "\n",
       "    .dataframe tbody tr th {\n",
       "        vertical-align: top;\n",
       "    }\n",
       "\n",
       "    .dataframe thead th {\n",
       "        text-align: right;\n",
       "    }\n",
       "</style>\n",
       "<table border=\"1\" class=\"dataframe\">\n",
       "  <thead>\n",
       "    <tr style=\"text-align: right;\">\n",
       "      <th></th>\n",
       "      <th>Missing Values</th>\n",
       "      <th>Percentage</th>\n",
       "    </tr>\n",
       "  </thead>\n",
       "  <tbody>\n",
       "    <tr>\n",
       "      <th>name</th>\n",
       "      <td>0</td>\n",
       "      <td>0.000000</td>\n",
       "    </tr>\n",
       "    <tr>\n",
       "      <th>selling_price</th>\n",
       "      <td>0</td>\n",
       "      <td>0.000000</td>\n",
       "    </tr>\n",
       "    <tr>\n",
       "      <th>year</th>\n",
       "      <td>0</td>\n",
       "      <td>0.000000</td>\n",
       "    </tr>\n",
       "    <tr>\n",
       "      <th>seller_type</th>\n",
       "      <td>0</td>\n",
       "      <td>0.000000</td>\n",
       "    </tr>\n",
       "    <tr>\n",
       "      <th>owner</th>\n",
       "      <td>0</td>\n",
       "      <td>0.000000</td>\n",
       "    </tr>\n",
       "    <tr>\n",
       "      <th>km_driven</th>\n",
       "      <td>0</td>\n",
       "      <td>0.000000</td>\n",
       "    </tr>\n",
       "    <tr>\n",
       "      <th>ex_showroom_price</th>\n",
       "      <td>433</td>\n",
       "      <td>41.042654</td>\n",
       "    </tr>\n",
       "  </tbody>\n",
       "</table>\n",
       "</div>"
      ],
      "text/plain": [
       "                   Missing Values  Percentage\n",
       "name                            0    0.000000\n",
       "selling_price                   0    0.000000\n",
       "year                            0    0.000000\n",
       "seller_type                     0    0.000000\n",
       "owner                           0    0.000000\n",
       "km_driven                       0    0.000000\n",
       "ex_showroom_price             433   41.042654"
      ]
     },
     "execution_count": 178,
     "metadata": {},
     "output_type": "execute_result"
    }
   ],
   "source": [
    "missing_values = df_copy.isnull().sum()\n",
    "missing_perct = (df_copy.isnull().sum() / len(df_copy)) * 100\n",
    "missing_df = pd.DataFrame({'Missing Values' : missing_values, 'Percentage': missing_perct})\n",
    "missing_df"
   ]
  },
  {
   "cell_type": "raw",
   "id": "cd28b0c8-fd9e-4ea0-bd5f-b7720a6f7f33",
   "metadata": {},
   "source": [
    "8. What is the highest ex_showroom_price recorded, and for which bike."
   ]
  },
  {
   "cell_type": "code",
   "execution_count": 179,
   "id": "d103377f-0364-4589-a32c-fe171d965f44",
   "metadata": {},
   "outputs": [
    {
     "name": "stdout",
     "output_type": "stream",
     "text": [
      "Bike with highest showroom price:\n",
      "name                 Harley-Davidson Street Bob\n",
      "ex_showroom_price                     1278000.0\n",
      "Name: 134, dtype: object\n"
     ]
    }
   ],
   "source": [
    "max_price_idx = df_copy['ex_showroom_price'].idxmax()\n",
    "bike_highest_price = df_copy.loc[max_price_idx]\n",
    "print(\"Bike with highest showroom price:\")\n",
    "print(bike_highest_price[['name', 'ex_showroom_price']])"
   ]
  },
  {
   "cell_type": "raw",
   "id": "1f415301-43f4-4b97-abc1-ecb4341b70ed",
   "metadata": {},
   "source": [
    "9. What is the total number of bikes listed by each seller type."
   ]
  },
  {
   "cell_type": "code",
   "execution_count": 180,
   "id": "55483b27-265f-49d5-8d27-3eb50c6028c9",
   "metadata": {},
   "outputs": [
    {
     "name": "stdout",
     "output_type": "stream",
     "text": [
      "seller_type\n",
      "Individual    1049\n",
      "Dealer           6\n",
      "Name: count, dtype: int64\n"
     ]
    }
   ],
   "source": [
    "bikes_by_seller = df_copy['seller_type'].value_counts()\n",
    "print(bikes_by_seller)"
   ]
  },
  {
   "cell_type": "raw",
   "id": "60e391e8-671f-45f3-a230-747eb282db1a",
   "metadata": {},
   "source": [
    "10. What is the relationship between selling_price and km_driven for first-owner bikes."
   ]
  },
  {
   "cell_type": "code",
   "execution_count": 181,
   "id": "483967dd-5e13-4e96-b456-582ecd23ad4d",
   "metadata": {},
   "outputs": [
    {
     "data": {
      "image/png": "[encoded data removed]",
      "text/plain": [
       "<Figure size 640x480 with 1 Axes>"
      ]
     },
     "metadata": {},
     "output_type": "display_data"
    }
   ],
   "source": [
    "first_owner_df = df_copy[df_copy['owner'] == '1st owner']\n",
    "sns.scatterplot(data=first_owner_df, x='km_driven', y='selling_price')\n",
    "plt.title('Selling Price vs KM Driven (First Owner)')\n",
    "plt.show()"
   ]
  },
  {
   "cell_type": "raw",
   "id": "d7599e08-8eba-409d-b349-4498324c53cd",
   "metadata": {},
   "source": [
    "11. Identify and remove outliers in the km_driven column using the IQR method."
   ]
  },
  {
   "cell_type": "code",
   "execution_count": 182,
   "id": "614c94cd-fd15-47b6-9d9e-d6e3ce8e92a2",
   "metadata": {},
   "outputs": [
    {
     "name": "stdout",
     "output_type": "stream",
     "text": [
      "Shape after removing outliers: (1017, 7)\n"
     ]
    }
   ],
   "source": [
    "Q1 = df_copy['km_driven'].quantile(0.25)\n",
    "Q3 = df_copy['km_driven'].quantile(0.75)\n",
    "IQR = Q3 - Q1\n",
    "lower_bound = Q1 - 1.5 * IQR\n",
    "upper_bound = Q3 + 1.5 * IQR\n",
    "\n",
    "df_iqr_cleaned = df_copy[(df_copy['km_driven'] >= lower_bound) & (df_copy['km_driven'] <= upper_bound)]\n",
    "print(\"Shape after removing outliers:\", df_iqr_cleaned.shape)\n"
   ]
  },
  {
   "cell_type": "raw",
   "id": "24dc9f9f-af12-4206-87ff-ebebabdc4dd9",
   "metadata": {},
   "source": [
    "12. Perform a bivariate analysis to visualize the relationship between year and selling_price. "
   ]
  },
  {
   "cell_type": "code",
   "execution_count": 183,
   "id": "19892020-f39d-4c3b-8e0f-359523f28dfa",
   "metadata": {},
   "outputs": [
    {
     "data": {
      "image/png": "[encoded data removed]",
      "text/plain": [
       "<Figure size 640x480 with 1 Axes>"
      ]
     },
     "metadata": {},
     "output_type": "display_data"
    }
   ],
   "source": [
    "sns.boxplot(data = df_copy, x='year', y='selling_price')\n",
    "plt.xticks(rotation=45)\n",
    "plt.title(\"Year vs Selling Price\")\n",
    "plt.show()"
   ]
  },
  {
   "cell_type": "raw",
   "id": "11227014-0100-44b5-8b29-bd91dc92fc03",
   "metadata": {},
   "source": [
    "13. What is the average depreciation in selling price based on the bike's age (current year - manufacturing year)."
   ]
  },
  {
   "cell_type": "code",
   "execution_count": 184,
   "id": "21cc1095-07ff-48ea-ae54-fe18e7b31872",
   "metadata": {},
   "outputs": [
    {
     "name": "stdout",
     "output_type": "stream",
     "text": [
      "age\n",
      "5     183333.333333\n",
      "6     119689.511628\n",
      "7      87603.915385\n",
      "8      78962.121212\n",
      "9      58469.018692\n",
      "10     56500.000000\n",
      "11     48668.131868\n",
      "12     51152.777778\n",
      "13     35976.637681\n",
      "14     35655.721311\n",
      "15     31993.220339\n",
      "16     22240.740741\n",
      "17     34289.285714\n",
      "18     24927.586207\n",
      "19     23380.000000\n",
      "20     16978.571429\n",
      "21     15100.000000\n",
      "22      8000.000000\n",
      "23     20666.666667\n",
      "24     40000.000000\n",
      "25     20833.333333\n",
      "26     15000.000000\n",
      "27     28333.333333\n",
      "28     17500.000000\n",
      "30    150000.000000\n",
      "32    130000.000000\n",
      "34      6000.000000\n",
      "37     20000.000000\n",
      "Name: selling_price, dtype: float64\n"
     ]
    }
   ],
   "source": [
    "from datetime import datetime\n",
    "\n",
    "df_copy['age'] = datetime.now().year - df_copy['year']\n",
    "depreciation = df_copy.groupby('age')['selling_price'].mean()\n",
    "print(depreciation)"
   ]
  },
  {
   "cell_type": "raw",
   "id": "e8688d35-ed0b-4ef0-871a-60fdeffdd92f",
   "metadata": {},
   "source": [
    "14. Which bike names are priced significantly above the average price for their manufacturing year."
   ]
  },
  {
   "cell_type": "code",
   "execution_count": 185,
   "id": "fe167c99-29f6-4380-bb5d-830dcf8fe8f5",
   "metadata": {},
   "outputs": [
    {
     "name": "stdout",
     "output_type": "stream",
     "text": [
      "                                     name  year  selling_price  \\\n",
      "2     Royal Enfield Classic Gunmetal Grey  2018         150000   \n",
      "7    Royal Enfield Bullet 350 [2007-2011]  2008         180000   \n",
      "13                          Yamaha YZF R3  2019         365000   \n",
      "18    Royal Enfield Classic Gunmetal Grey  2018         150000   \n",
      "23                          Jawa Standard  2019         180000   \n",
      "..                                    ...   ...            ...   \n",
      "973             Royal Enfield Thunder 500  2015         105000   \n",
      "975             Royal Enfield Thunder 350  2013         105000   \n",
      "977             Royal Enfield Classic 350  2015         100000   \n",
      "978             Royal Enfield Classic 500  2014          95000   \n",
      "979             Royal Enfield Classic 500  2011          90000   \n",
      "\n",
      "     selling_price_year_avg  \n",
      "2              87603.915385  \n",
      "7              34289.285714  \n",
      "13            119689.511628  \n",
      "18             87603.915385  \n",
      "23            119689.511628  \n",
      "..                      ...  \n",
      "973            56500.000000  \n",
      "975            51152.777778  \n",
      "977            56500.000000  \n",
      "978            48668.131868  \n",
      "979            35655.721311  \n",
      "\n",
      "[157 rows x 4 columns]\n"
     ]
    }
   ],
   "source": [
    "yearly_avg = df_copy.groupby('year')['selling_price'].mean()\n",
    "merged = df_copy.merge(yearly_avg, on='year', suffixes=('', '_year_avg'))\n",
    "high_priced_bikes = merged[merged['selling_price'] > merged['selling_price_year_avg'] * 1.5]\n",
    "print(high_priced_bikes[['name', 'year', 'selling_price', 'selling_price_year_avg']])"
   ]
  },
  {
   "cell_type": "raw",
   "id": "8bfa0613-1d92-4fee-ad65-950a5349e7b4",
   "metadata": {},
   "source": [
    "15. Develop a correlation matrix for numeric columns and visualize it using a heatmap."
   ]
  },
  {
   "cell_type": "code",
   "execution_count": 186,
   "id": "3826c394-4d71-4ddf-81b9-ab727e17b5f3",
   "metadata": {},
   "outputs": [
    {
     "data": {
      "image/png": "[encoded data removed]",
      "text/plain": [
       "<Figure size 640x480 with 2 Axes>"
      ]
     },
     "metadata": {},
     "output_type": "display_data"
    }
   ],
   "source": [
    "corr_matrix = df_copy.select_dtypes(include='number').corr()\n",
    "sns.heatmap(corr_matrix, annot=True, cmap='coolwarm')\n",
    "plt.title('Correlation Matrix')\n",
    "plt.show()"
   ]
  }
 ],
 "metadata": {
  "kernelspec": {
   "display_name": "Python [conda env:base] *",
   "language": "python",
   "name": "conda-base-py"
  },
  "language_info": {
   "codemirror_mode": {
    "name": "ipython",
    "version": 3
   },
   "file_extension": ".py",
   "mimetype": "text/x-python",
   "name": "python",
   "nbconvert_exporter": "python",
   "pygments_lexer": "ipython3",
   "version": "3.12.7"
  }
 },
 "nbformat": 4,
 "nbformat_minor": 5
}
